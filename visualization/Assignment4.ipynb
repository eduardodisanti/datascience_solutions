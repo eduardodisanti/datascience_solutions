{
 "cells": [
  {
   "cell_type": "markdown",
   "metadata": {},
   "source": [
    "# Assignment 4\n",
    "\n",
    "Before working on this assignment please read these instructions fully. In the submission area, you will notice that you can click the link to **Preview the Grading** for each step of the assignment. This is the criteria that will be used for peer grading. Please familiarize yourself with the criteria before beginning the assignment.\n",
    "\n",
    "This assignment requires that you to find **at least** two datasets on the web which are related, and that you visualize these datasets to answer a question with the broad topic of **sports or athletics** (see below) for the region of **Ann Arbor, Michigan, United States**, or **United States** more broadly.\n",
    "\n",
    "You can merge these datasets with data from different regions if you like! For instance, you might want to compare **Ann Arbor, Michigan, United States** to Ann Arbor, USA. In that case at least one source file must be about **Ann Arbor, Michigan, United States**.\n",
    "\n",
    "You are welcome to choose datasets at your discretion, but keep in mind **they will be shared with your peers**, so choose appropriate datasets. Sensitive, confidential, illicit, and proprietary materials are not good choices for datasets for this assignment. You are welcome to upload datasets of your own as well, and link to them using a third party repository such as github, bitbucket, pastebin, etc. Please be aware of the Coursera terms of service with respect to intellectual property.\n",
    "\n",
    "Also, you are welcome to preserve data in its original language, but for the purposes of grading you should provide english translations. You are welcome to provide multiple visuals in different languages if you would like!\n",
    "\n",
    "As this assignment is for the whole course, you must incorporate principles discussed in the first week, such as having as high data-ink ratio (Tufte) and aligning with Cairo’s principles of truth, beauty, function, and insight.\n",
    "\n",
    "Here are the assignment instructions:\n",
    "\n",
    " * State the region and the domain category that your data sets are about (e.g., **Ann Arbor, Michigan, United States** and **sports or athletics**).\n",
    " * You must state a question about the domain category and region that you identified as being interesting.\n",
    " * You must provide at least two links to available datasets. These could be links to files such as CSV or Excel files, or links to websites which might have data in tabular form, such as Wikipedia pages.\n",
    " * You must upload an image which addresses the research question you stated. In addition to addressing the question, this visual should follow Cairo's principles of truthfulness, functionality, beauty, and insightfulness.\n",
    " * You must contribute a short (1-2 paragraph) written justification of how your visualization addresses your stated research question.\n",
    "\n",
    "What do we mean by **sports or athletics**?  For this category we are interested in sporting events or athletics broadly, please feel free to creatively interpret the category when building your research question!\n",
    "\n",
    "## Tips\n",
    "* Wikipedia is an excellent source of data, and I strongly encourage you to explore it for new data sources.\n",
    "* Many governments run open data initiatives at the city, region, and country levels, and these are wonderful resources for localized data sources.\n",
    "* Several international agencies, such as the [United Nations](http://data.un.org/), the [World Bank](http://data.worldbank.org/), the [Global Open Data Index](http://index.okfn.org/place/) are other great places to look for data.\n",
    "* This assignment requires you to convert and clean datafiles. Check out the discussion forums for tips on how to do this from various sources, and share your successes with your fellow students!\n",
    "\n",
    "## Example\n",
    "Looking for an example? Here's what our course assistant put together for the **Ann Arbor, MI, USA** area using **sports and athletics** as the topic. [Example Solution File](./readonly/Assignment4_example.pdf)"
   ]
  },
  {
   "cell_type": "code",
   "execution_count": 71,
   "metadata": {
    "collapsed": false
   },
   "outputs": [],
   "source": [
    "file1=StringIO(\"\"\"Country\tQuestion\tFiller\tResponse\tPercentage\n",
    "AT\te1\t01. All\t01. Yes\t42\n",
    "BE\te1\t01. All\t01. Yes\t54\n",
    "BG\te1\t01. All\t01. Yes\t75\n",
    "CY\te1\t01. All\t01. Yes\t76\n",
    "CZ\te1\t01. All\t01. Yes\t42\n",
    "DE\te1\t01. All\t01. Yes\t39\n",
    "DK\te1\t01. All\t01. Yes\t40\n",
    "EE\te1\t01. All\t01. Yes\t63\n",
    "EL\te1\t01. All\t01. Yes\t66\n",
    "ES\te1\t01. All\t01. Yes\t36\n",
    "FI\te1\t01. All\t01. Yes\t36\n",
    "FR\te1\t01. All\t01. Yes\t61\n",
    "HR\te1\t01. All\t01. Yes\t73\n",
    "HU\te1\t01. All\t01. Yes\t65\n",
    "IE\te1\t01. All\t01. Yes\t57\n",
    "IT\te1\t01. All\t01. Yes\t61\n",
    "LT\te1\t01. All\t01. Yes\t70\n",
    "LU\te1\t01. All\t01. Yes\t44\n",
    "LV\te1\t01. All\t01. Yes\t65\n",
    "MT\te1\t01. All\t01. Yes\t54\n",
    "NL\te1\t01. All\t01. Yes\t44\n",
    "PL\te1\t01. All\t01. Yes\t66\n",
    "PT\te1\t01. All\t01. Yes\t59\n",
    "RO\te1\t01. All\t01. Yes\t78\n",
    "SE\te1\t01. All\t01. Yes\t38\n",
    "SI\te1\t01. All\t01. Yes\t58\n",
    "SK\te1\t01. All\t01. Yes\t66\n",
    "UK\te1\t01. All\t01. Yes\t53\"\"\")\n",
    "\n",
    "\n",
    "file2=StringIO(\"\"\"Country\tQuestion\tFiller Response\tPercentage\n",
    "AT\tPhysical and/or sexual violence by a partner or a non-partner in the 12 months prior to the interview All\t01. Yes\t5\n",
    "BE\tPhysical and/or sexual violence by a partner or a non-partner in the 12 months prior to the interview All\t01. Yes\t11\n",
    "BG\tPhysical and/or sexual violence by a partner or a non-partner in the 12 months prior to the interview All\t01. Yes\t8\n",
    "CY\tPhysical and/or sexual violence by a partner or a non-partner in the 12 months prior to the interview All\t01. Yes\t5\n",
    "CZ\tPhysical and/or sexual violence by a partner or a non-partner in the 12 months prior to the interview All\t01. Yes\t8\n",
    "DE\tPhysical and/or sexual violence by a partner or a non-partner in the 12 months prior to the interview All\t01. Yes\t8\n",
    "DK\tPhysical and/or sexual violence by a partner or a non-partner in the 12 months prior to the interview All\t01. Yes\t11\n",
    "EE\tPhysical and/or sexual violence by a partner or a non-partner in the 12 months prior to the interview All\t01. Yes\t5\n",
    "EL\tPhysical and/or sexual violence by a partner or a non-partner in the 12 months prior to the interview All\t01. Yes\t7\n",
    "ES\tPhysical and/or sexual violence by a partner or a non-partner in the 12 months prior to the interview All\t01. Yes\t4\n",
    "FI\tPhysical and/or sexual violence by a partner or a non-partner in the 12 months prior to the interview All\t01. Yes\t10\n",
    "FR\tPhysical and/or sexual violence by a partner or a non-partner in the 12 months prior to the interview All\t01. Yes\t11\n",
    "HR\tPhysical and/or sexual violence by a partner or a non-partner in the 12 months prior to the interview All\t01. Yes\t5\n",
    "HU\tPhysical and/or sexual violence by a partner or a non-partner in the 12 months prior to the interview All\t01. Yes\t9\n",
    "IE\tPhysical and/or sexual violence by a partner or a non-partner in the 12 months prior to the interview All\t01. Yes\t8\n",
    "IT\tPhysical and/or sexual violence by a partner or a non-partner in the 12 months prior to the interview All\t01. Yes\t7\n",
    "LT\tPhysical and/or sexual violence by a partner or a non-partner in the 12 months prior to the interview All\t01. Yes\t6\n",
    "LU\tPhysical and/or sexual violence by a partner or a non-partner in the 12 months prior to the interview All\t01. Yes\t7\n",
    "LV\tPhysical and/or sexual violence by a partner or a non-partner in the 12 months prior to the interview All\t01. Yes\t6\n",
    "MT\tPhysical and/or sexual violence by a partner or a non-partner in the 12 months prior to the interview All\t01. Yes\t5\n",
    "NL\tPhysical and/or sexual violence by a partner or a non-partner in the 12 months prior to the interview All\t01. Yes\t11\n",
    "PL\tPhysical and/or sexual violence by a partner or a non-partner in the 12 months prior to the interview All\t01. Yes\t4\n",
    "PT\tPhysical and/or sexual violence by a partner or a non-partner in the 12 months prior to the interview All\t01. Yes\t6\n",
    "RO\tPhysical and/or sexual violence by a partner or a non-partner in the 12 months prior to the interview All\t01. Yes\t7\n",
    "SE\tPhysical and/or sexual violence by a partner or a non-partner in the 12 months prior to the interview All\t01. Yes\t11\n",
    "SI\tPhysical and/or sexual violence by a partner or a non-partner in the 12 months prior to the interview All\t01. Yes\t3\n",
    "SK\tPhysical and/or sexual violence by a partner or a non-partner in the 12 months prior to the interview All\t01. Yes\t10\n",
    "UK\tPhysical and/or sexual violence by a partner or a non-partner in the 12 months prior to the interview All\t01. Yes\t8\"\"\")\n",
    "\n",
    "\n",
    "file3=StringIO(\"\"\"\"\"\")"
   ]
  },
  {
   "cell_type": "code",
   "execution_count": null,
   "metadata": {
    "collapsed": false
   },
   "outputs": [],
   "source": []
  },
  {
   "cell_type": "code",
   "execution_count": 72,
   "metadata": {
    "collapsed": false
   },
   "outputs": [],
   "source": [
    "import pandas as pd\n",
    "import numpy as np\n",
    "from io import StringIO\n",
    "\n",
    "\n",
    "df_lgtb = pd.read_csv(file1, sep=\"\\t\")\n",
    "df_women = pd.read_csv(file2, sep=\"\\t\")\n",
    "\n",
    "question1=\"Physical and/or sexual violence by a partner or a non-partner in the 12 months prior to the interview\"\n",
    "question2=\"Do you avoid holding hands in public with a same-sex partner for fear of being assaulted, threatened of harassed?\"\n",
    "\n"
   ]
  },
  {
   "cell_type": "code",
   "execution_count": 94,
   "metadata": {
    "collapsed": false
   },
   "outputs": [
    {
     "data": {
      "text/html": [
       "<div>\n",
       "<table border=\"1\" class=\"dataframe\">\n",
       "  <thead>\n",
       "    <tr style=\"text-align: right;\">\n",
       "      <th></th>\n",
       "      <th>Country</th>\n",
       "      <th>Question</th>\n",
       "      <th>Filler Response</th>\n",
       "      <th>Percentage</th>\n",
       "    </tr>\n",
       "  </thead>\n",
       "  <tbody>\n",
       "    <tr>\n",
       "      <th>0</th>\n",
       "      <td>AT</td>\n",
       "      <td>Physical and/or sexual violence by a partner o...</td>\n",
       "      <td>01. Yes</td>\n",
       "      <td>5</td>\n",
       "    </tr>\n",
       "    <tr>\n",
       "      <th>1</th>\n",
       "      <td>BE</td>\n",
       "      <td>Physical and/or sexual violence by a partner o...</td>\n",
       "      <td>01. Yes</td>\n",
       "      <td>11</td>\n",
       "    </tr>\n",
       "    <tr>\n",
       "      <th>2</th>\n",
       "      <td>BG</td>\n",
       "      <td>Physical and/or sexual violence by a partner o...</td>\n",
       "      <td>01. Yes</td>\n",
       "      <td>8</td>\n",
       "    </tr>\n",
       "    <tr>\n",
       "      <th>3</th>\n",
       "      <td>CY</td>\n",
       "      <td>Physical and/or sexual violence by a partner o...</td>\n",
       "      <td>01. Yes</td>\n",
       "      <td>5</td>\n",
       "    </tr>\n",
       "    <tr>\n",
       "      <th>4</th>\n",
       "      <td>CZ</td>\n",
       "      <td>Physical and/or sexual violence by a partner o...</td>\n",
       "      <td>01. Yes</td>\n",
       "      <td>8</td>\n",
       "    </tr>\n",
       "  </tbody>\n",
       "</table>\n",
       "</div>"
      ],
      "text/plain": [
       "  Country                                           Question Filler Response  \\\n",
       "0      AT  Physical and/or sexual violence by a partner o...         01. Yes   \n",
       "1      BE  Physical and/or sexual violence by a partner o...         01. Yes   \n",
       "2      BG  Physical and/or sexual violence by a partner o...         01. Yes   \n",
       "3      CY  Physical and/or sexual violence by a partner o...         01. Yes   \n",
       "4      CZ  Physical and/or sexual violence by a partner o...         01. Yes   \n",
       "\n",
       "   Percentage  \n",
       "0           5  \n",
       "1          11  \n",
       "2           8  \n",
       "3           5  \n",
       "4           8  "
      ]
     },
     "execution_count": 94,
     "metadata": {},
     "output_type": "execute_result"
    }
   ],
   "source": [
    "df_women.head(5)\n"
   ]
  },
  {
   "cell_type": "code",
   "execution_count": 95,
   "metadata": {
    "collapsed": false
   },
   "outputs": [
    {
     "name": "stderr",
     "output_type": "stream",
     "text": [
      "/opt/conda/lib/python3.5/site-packages/ipykernel/__main__.py:6: FutureWarning: sort(columns=....) is deprecated, use sort_values(by=.....)\n",
      "/opt/conda/lib/python3.5/site-packages/ipykernel/__main__.py:7: FutureWarning: sort(columns=....) is deprecated, use sort_values(by=.....)\n",
      "/opt/conda/lib/python3.5/site-packages/matplotlib/font_manager.py:1297: UserWarning: findfont: Font family ['sans-serif'] not found. Falling back to DejaVu Sans\n",
      "  (prop.get_family(), self.defaultFamily[fontext]))\n",
      "/opt/conda/lib/python3.5/site-packages/statsmodels/nonparametric/kdetools.py:20: VisibleDeprecationWarning: using a non-integer number instead of an integer will result in an error in the future\n",
      "  y = X[:m/2+1] + np.r_[0,X[m/2+1:],0]*1j\n"
     ]
    },
    {
     "data": {
      "image/png": "[encoded data removed]",
      "text/plain": [
       "<matplotlib.figure.Figure at 0x7fbf9f6a2d68>"
      ]
     },
     "metadata": {},
     "output_type": "display_data"
    }
   ],
   "source": [
    "import numpy as np\n",
    "import seaborn as sns\n",
    "import matplotlib.pyplot as plt\n",
    "\n",
    "# Generate some test data\n",
    "df_lgtb.sort(['Country'], ascending=[True])\n",
    "df_women.sort(['Country'], ascending=[True])\n",
    "x = df_lgtb['Percentage']\n",
    "y = df_women['Percentage']\n",
    "x.head(5)\n",
    "y.head(5)\n",
    "\n",
    "g = sns.jointplot(x=x, y=y, kind='kde')\n",
    "\n",
    "g.set_axis_labels(\"LGTB fear of violence\",\"Violence against women\", fontsize=10)\n",
    "\n",
    "plt.show()"
   ]
  },
  {
   "cell_type": "code",
   "execution_count": null,
   "metadata": {
    "collapsed": false
   },
   "outputs": [],
   "source": []
  },
  {
   "cell_type": "code",
   "execution_count": null,
   "metadata": {
    "collapsed": false
   },
   "outputs": [],
   "source": []
  },
  {
   "cell_type": "code",
   "execution_count": null,
   "metadata": {
    "collapsed": true
   },
   "outputs": [],
   "source": []
  }
 ],
 "metadata": {
  "kernelspec": {
   "display_name": "Python 3",
   "language": "python",
   "name": "python3"
  },
  "language_info": {
   "codemirror_mode": {
    "name": "ipython",
    "version": 3
   },
   "file_extension": ".py",
   "mimetype": "text/x-python",
   "name": "python",
   "nbconvert_exporter": "python",
   "pygments_lexer": "ipython3",
   "version": "3.6.2"
  }
 },
 "nbformat": 4,
 "nbformat_minor": 1
}

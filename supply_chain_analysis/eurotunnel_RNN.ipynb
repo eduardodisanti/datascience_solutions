{
 "cells": [
  {
   "cell_type": "code",
   "execution_count": 186,
   "metadata": {},
   "outputs": [],
   "source": [
    "import pandas as pd\n",
    "\n",
    "import matplotlib.pyplot as plt\n",
    "import numpy as np\n",
    "%matplotlib inline\n"
   ]
  },
  {
   "cell_type": "code",
   "execution_count": 183,
   "metadata": {},
   "outputs": [],
   "source": [
    "def plot_hist(ax, data, bins=24, title=\"gauss hist\"):\n",
    "\n",
    "    ax.hist(data, normed=True, bins=bins)\n",
    "    ax.set_title(title)"
   ]
  },
  {
   "cell_type": "markdown",
   "metadata": {},
   "source": [
    "### Get the data set"
   ]
  },
  {
   "cell_type": "code",
   "execution_count": 96,
   "metadata": {},
   "outputs": [],
   "source": [
    "df = pd.read_csv('eurotunnel_3_months.csv', index_col=False, header=0);"
   ]
  },
  {
   "cell_type": "markdown",
   "metadata": {},
   "source": [
    "#### check what is all about"
   ]
  },
  {
   "cell_type": "code",
   "execution_count": 97,
   "metadata": {},
   "outputs": [
    {
     "data": {
      "text/html": [
       "<div>\n",
       "<style scoped>\n",
       "    .dataframe tbody tr th:only-of-type {\n",
       "        vertical-align: middle;\n",
       "    }\n",
       "\n",
       "    .dataframe tbody tr th {\n",
       "        vertical-align: top;\n",
       "    }\n",
       "\n",
       "    .dataframe thead th {\n",
       "        text-align: right;\n",
       "    }\n",
       "</style>\n",
       "<table border=\"1\" class=\"dataframe\">\n",
       "  <thead>\n",
       "    <tr style=\"text-align: right;\">\n",
       "      <th></th>\n",
       "      <th>terminal</th>\n",
       "      <th>servicetype</th>\n",
       "      <th>departures</th>\n",
       "      <th>waitingtimeminutes</th>\n",
       "      <th>journeytimeminutes</th>\n",
       "      <th>delayreason</th>\n",
       "      <th>retrievaldate</th>\n",
       "      <th>latitude</th>\n",
       "      <th>longitude</th>\n",
       "      <th>trend</th>\n",
       "    </tr>\n",
       "  </thead>\n",
       "  <tbody>\n",
       "    <tr>\n",
       "      <th>0</th>\n",
       "      <td>UK</td>\n",
       "      <td>normal</td>\n",
       "      <td>6</td>\n",
       "      <td>0</td>\n",
       "      <td>60</td>\n",
       "      <td>none/unknown</td>\n",
       "      <td>2018-02-01 00:13:06.432</td>\n",
       "      <td>51.0963</td>\n",
       "      <td>1.13505</td>\n",
       "      <td>stable</td>\n",
       "    </tr>\n",
       "    <tr>\n",
       "      <th>1</th>\n",
       "      <td>F</td>\n",
       "      <td>normal</td>\n",
       "      <td>4</td>\n",
       "      <td>0</td>\n",
       "      <td>60</td>\n",
       "      <td>none/unknown</td>\n",
       "      <td>2018-02-01 00:13:06.57</td>\n",
       "      <td>50.9239</td>\n",
       "      <td>1.81604</td>\n",
       "      <td>stable</td>\n",
       "    </tr>\n",
       "    <tr>\n",
       "      <th>2</th>\n",
       "      <td>UK</td>\n",
       "      <td>normal</td>\n",
       "      <td>6</td>\n",
       "      <td>0</td>\n",
       "      <td>60</td>\n",
       "      <td>none/unknown</td>\n",
       "      <td>2018-02-01 00:42:53.941</td>\n",
       "      <td>51.0963</td>\n",
       "      <td>1.13505</td>\n",
       "      <td>stable</td>\n",
       "    </tr>\n",
       "    <tr>\n",
       "      <th>3</th>\n",
       "      <td>F</td>\n",
       "      <td>normal</td>\n",
       "      <td>5</td>\n",
       "      <td>0</td>\n",
       "      <td>60</td>\n",
       "      <td>none/unknown</td>\n",
       "      <td>2018-02-01 00:42:54.08</td>\n",
       "      <td>50.9239</td>\n",
       "      <td>1.81604</td>\n",
       "      <td>stable</td>\n",
       "    </tr>\n",
       "    <tr>\n",
       "      <th>4</th>\n",
       "      <td>UK</td>\n",
       "      <td>normal</td>\n",
       "      <td>4</td>\n",
       "      <td>0</td>\n",
       "      <td>60</td>\n",
       "      <td>none/unknown</td>\n",
       "      <td>2018-02-01 01:12:54.094</td>\n",
       "      <td>51.0963</td>\n",
       "      <td>1.13505</td>\n",
       "      <td>stable</td>\n",
       "    </tr>\n",
       "  </tbody>\n",
       "</table>\n",
       "</div>"
      ],
      "text/plain": [
       "  terminal servicetype  departures  waitingtimeminutes  journeytimeminutes  \\\n",
       "0       UK      normal           6                   0                  60   \n",
       "1        F      normal           4                   0                  60   \n",
       "2       UK      normal           6                   0                  60   \n",
       "3        F      normal           5                   0                  60   \n",
       "4       UK      normal           4                   0                  60   \n",
       "\n",
       "    delayreason            retrievaldate  latitude  longitude   trend  \n",
       "0  none/unknown  2018-02-01 00:13:06.432   51.0963    1.13505  stable  \n",
       "1  none/unknown   2018-02-01 00:13:06.57   50.9239    1.81604  stable  \n",
       "2  none/unknown  2018-02-01 00:42:53.941   51.0963    1.13505  stable  \n",
       "3  none/unknown   2018-02-01 00:42:54.08   50.9239    1.81604  stable  \n",
       "4  none/unknown  2018-02-01 01:12:54.094   51.0963    1.13505  stable  "
      ]
     },
     "execution_count": 97,
     "metadata": {},
     "output_type": "execute_result"
    }
   ],
   "source": [
    "df.head()"
   ]
  },
  {
   "cell_type": "markdown",
   "metadata": {},
   "source": [
    "### Try to get some insight on the data"
   ]
  },
  {
   "cell_type": "code",
   "execution_count": 127,
   "metadata": {},
   "outputs": [
    {
     "name": "stdout",
     "output_type": "stream",
     "text": [
      "118\n",
      "4259 4259\n"
     ]
    }
   ],
   "source": [
    "# defensive measures\n",
    "print(len(df[df['waitingtimeminutes']==90]))\n",
    "\n",
    "# check for imbalancement\n",
    "\n",
    "fr = df[df['terminal'] == \"F\"]\n",
    "uk = df[df['terminal'] == \"UK\"]\n",
    "print(len(fr), len(uk))"
   ]
  },
  {
   "cell_type": "code",
   "execution_count": null,
   "metadata": {},
   "outputs": [],
   "source": []
  },
  {
   "cell_type": "markdown",
   "metadata": {},
   "source": [
    "#### CHECK DELAY DISTRIBUTION"
   ]
  },
  {
   "cell_type": "code",
   "execution_count": 179,
   "metadata": {},
   "outputs": [
    {
     "data": {
      "image/png": "[encoded data removed]",
      "text/plain": [
       "<matplotlib.figure.Figure at 0x106aa9eb8>"
      ]
     },
     "metadata": {},
     "output_type": "display_data"
    },
    {
     "data": {
      "image/png": "[encoded data removed]",
      "text/plain": [
       "<matplotlib.figure.Figure at 0x111b0ef60>"
      ]
     },
     "metadata": {},
     "output_type": "display_data"
    }
   ],
   "source": [
    "delays    = df['waitingtimeminutes']\n",
    "delays_UK = df[df['terminal']=='UK']['waitingtimeminutes']\n",
    "delays_FR = df[df['terminal']=='F']['waitingtimeminutes']\n",
    "\n",
    "fig, ax = plt.subplots(sharey=True, figsize=(20,4))\n",
    "plot_hist(ax,  delays,    bins=10, title=\"overall delays\")\n",
    "\n",
    "fig, (ax_uk, ax_fr) = plt.subplots(1, 2, sharey=True, figsize=(20,8))\n",
    "plot_hist(ax_uk, delays_UK, bins=10, title=\"UK\")\n",
    "plot_hist(ax_fr, delays_FR, bins=10, title=\"F\")"
   ]
  },
  {
   "cell_type": "markdown",
   "metadata": {},
   "source": [
    "##### Apparently there is not much delays, the frech side has more delays and longer ones. Check a bit just in case"
   ]
  },
  {
   "cell_type": "code",
   "execution_count": 153,
   "metadata": {},
   "outputs": [
    {
     "data": {
      "text/html": [
       "<div>\n",
       "<style scoped>\n",
       "    .dataframe tbody tr th:only-of-type {\n",
       "        vertical-align: middle;\n",
       "    }\n",
       "\n",
       "    .dataframe tbody tr th {\n",
       "        vertical-align: top;\n",
       "    }\n",
       "\n",
       "    .dataframe thead th {\n",
       "        text-align: right;\n",
       "    }\n",
       "</style>\n",
       "<table border=\"1\" class=\"dataframe\">\n",
       "  <thead>\n",
       "    <tr style=\"text-align: right;\">\n",
       "      <th></th>\n",
       "      <th>FR</th>\n",
       "      <th>UK</th>\n",
       "      <th>all</th>\n",
       "    </tr>\n",
       "  </thead>\n",
       "  <tbody>\n",
       "    <tr>\n",
       "      <th>0</th>\n",
       "      <td>3803</td>\n",
       "      <td>4045</td>\n",
       "      <td>7848</td>\n",
       "    </tr>\n",
       "  </tbody>\n",
       "</table>\n",
       "</div>"
      ],
      "text/plain": [
       "     FR    UK   all\n",
       "0  3803  4045  7848"
      ]
     },
     "execution_count": 153,
     "metadata": {},
     "output_type": "execute_result"
    }
   ],
   "source": [
    "cntuk = len(delays_UK[delays_UK==0])\n",
    "cntfr = len(delays_FR[delays_FR==0])\n",
    "cnt   = len(delays[delays==0])\n",
    "\n",
    "_df = pd.DataFrame(data={'all':[cnt], 'UK':[cntuk], 'FR':[cntfr]})\n",
    "_df"
   ]
  },
  {
   "cell_type": "markdown",
   "metadata": {},
   "source": [
    "##### All seems in order, data is consistent"
   ]
  },
  {
   "cell_type": "markdown",
   "metadata": {},
   "source": [
    "### Lets figure a Hipotesis: \"delays are dependent on some TIME factors like day of week\" and of course, the tunnel end"
   ]
  },
  {
   "cell_type": "code",
   "execution_count": 285,
   "metadata": {},
   "outputs": [],
   "source": [
    "from sklearn.cluster import KMeans\n",
    "from sklearn.cluster import DBSCAN\n",
    "import datetime\n",
    "\n",
    "df['dow'] = df.apply(lambda row: datetime.datetime.strptime(row['retrievaldate'][0:19], '%Y-%m-%d %H:%M:%S').weekday(), axis=1)\n",
    "df['idterminal'] = df.apply(lambda row: 1 if row['terminal']=='UK' else 2, axis=1)"
   ]
  },
  {
   "cell_type": "code",
   "execution_count": 218,
   "metadata": {},
   "outputs": [
    {
     "data": {
      "text/html": [
       "<div>\n",
       "<style scoped>\n",
       "    .dataframe tbody tr th:only-of-type {\n",
       "        vertical-align: middle;\n",
       "    }\n",
       "\n",
       "    .dataframe tbody tr th {\n",
       "        vertical-align: top;\n",
       "    }\n",
       "\n",
       "    .dataframe thead th {\n",
       "        text-align: right;\n",
       "    }\n",
       "</style>\n",
       "<table border=\"1\" class=\"dataframe\">\n",
       "  <thead>\n",
       "    <tr style=\"text-align: right;\">\n",
       "      <th></th>\n",
       "      <th>terminal</th>\n",
       "      <th>servicetype</th>\n",
       "      <th>departures</th>\n",
       "      <th>waitingtimeminutes</th>\n",
       "      <th>journeytimeminutes</th>\n",
       "      <th>delayreason</th>\n",
       "      <th>retrievaldate</th>\n",
       "      <th>latitude</th>\n",
       "      <th>longitude</th>\n",
       "      <th>trend</th>\n",
       "      <th>dow</th>\n",
       "      <th>idterminal</th>\n",
       "    </tr>\n",
       "  </thead>\n",
       "  <tbody>\n",
       "    <tr>\n",
       "      <th>0</th>\n",
       "      <td>UK</td>\n",
       "      <td>normal</td>\n",
       "      <td>6</td>\n",
       "      <td>0</td>\n",
       "      <td>60</td>\n",
       "      <td>none/unknown</td>\n",
       "      <td>2018-02-01 00:13:06.432</td>\n",
       "      <td>51.0963</td>\n",
       "      <td>1.13505</td>\n",
       "      <td>stable</td>\n",
       "      <td>3</td>\n",
       "      <td>1</td>\n",
       "    </tr>\n",
       "    <tr>\n",
       "      <th>1</th>\n",
       "      <td>F</td>\n",
       "      <td>normal</td>\n",
       "      <td>4</td>\n",
       "      <td>0</td>\n",
       "      <td>60</td>\n",
       "      <td>none/unknown</td>\n",
       "      <td>2018-02-01 00:13:06.57</td>\n",
       "      <td>50.9239</td>\n",
       "      <td>1.81604</td>\n",
       "      <td>stable</td>\n",
       "      <td>3</td>\n",
       "      <td>2</td>\n",
       "    </tr>\n",
       "    <tr>\n",
       "      <th>2</th>\n",
       "      <td>UK</td>\n",
       "      <td>normal</td>\n",
       "      <td>6</td>\n",
       "      <td>0</td>\n",
       "      <td>60</td>\n",
       "      <td>none/unknown</td>\n",
       "      <td>2018-02-01 00:42:53.941</td>\n",
       "      <td>51.0963</td>\n",
       "      <td>1.13505</td>\n",
       "      <td>stable</td>\n",
       "      <td>3</td>\n",
       "      <td>1</td>\n",
       "    </tr>\n",
       "    <tr>\n",
       "      <th>3</th>\n",
       "      <td>F</td>\n",
       "      <td>normal</td>\n",
       "      <td>5</td>\n",
       "      <td>0</td>\n",
       "      <td>60</td>\n",
       "      <td>none/unknown</td>\n",
       "      <td>2018-02-01 00:42:54.08</td>\n",
       "      <td>50.9239</td>\n",
       "      <td>1.81604</td>\n",
       "      <td>stable</td>\n",
       "      <td>3</td>\n",
       "      <td>2</td>\n",
       "    </tr>\n",
       "    <tr>\n",
       "      <th>4</th>\n",
       "      <td>UK</td>\n",
       "      <td>normal</td>\n",
       "      <td>4</td>\n",
       "      <td>0</td>\n",
       "      <td>60</td>\n",
       "      <td>none/unknown</td>\n",
       "      <td>2018-02-01 01:12:54.094</td>\n",
       "      <td>51.0963</td>\n",
       "      <td>1.13505</td>\n",
       "      <td>stable</td>\n",
       "      <td>3</td>\n",
       "      <td>1</td>\n",
       "    </tr>\n",
       "  </tbody>\n",
       "</table>\n",
       "</div>"
      ],
      "text/plain": [
       "  terminal servicetype  departures  waitingtimeminutes  journeytimeminutes  \\\n",
       "0       UK      normal           6                   0                  60   \n",
       "1        F      normal           4                   0                  60   \n",
       "2       UK      normal           6                   0                  60   \n",
       "3        F      normal           5                   0                  60   \n",
       "4       UK      normal           4                   0                  60   \n",
       "\n",
       "    delayreason            retrievaldate  latitude  longitude   trend  dow  \\\n",
       "0  none/unknown  2018-02-01 00:13:06.432   51.0963    1.13505  stable    3   \n",
       "1  none/unknown   2018-02-01 00:13:06.57   50.9239    1.81604  stable    3   \n",
       "2  none/unknown  2018-02-01 00:42:53.941   51.0963    1.13505  stable    3   \n",
       "3  none/unknown   2018-02-01 00:42:54.08   50.9239    1.81604  stable    3   \n",
       "4  none/unknown  2018-02-01 01:12:54.094   51.0963    1.13505  stable    3   \n",
       "\n",
       "   idterminal  \n",
       "0           1  \n",
       "1           2  \n",
       "2           1  \n",
       "3           2  \n",
       "4           1  "
      ]
     },
     "execution_count": 218,
     "metadata": {},
     "output_type": "execute_result"
    }
   ],
   "source": [
    "df.head()"
   ]
  },
  {
   "cell_type": "code",
   "execution_count": 320,
   "metadata": {},
   "outputs": [],
   "source": [
    "df_UK = df[df['terminal']=='UK']\n",
    "df_FR = df[df['terminal']=='F']\n",
    "\n",
    "reg = np.array([df['idterminal'], df['dow'], df['waitingtimeminutes']]).transpose()\n",
    "reg_UK = np.array([df_UK['idterminal'], df_UK['dow'], df_UK['waitingtimeminutes']]).transpose()\n",
    "reg_FR = np.array([df_FR['idterminal'], df_FR['dow'], df_FR['waitingtimeminutes']]).transpose()"
   ]
  },
  {
   "cell_type": "code",
   "execution_count": null,
   "metadata": {},
   "outputs": [],
   "source": []
  },
  {
   "cell_type": "code",
   "execution_count": null,
   "metadata": {},
   "outputs": [],
   "source": []
  },
  {
   "cell_type": "code",
   "execution_count": null,
   "metadata": {},
   "outputs": [],
   "source": []
  },
  {
   "cell_type": "code",
   "execution_count": 346,
   "metadata": {},
   "outputs": [
    {
     "data": {
      "image/png": "[encoded data removed]",
      "text/plain": [
       "<matplotlib.figure.Figure at 0x113271be0>"
      ]
     },
     "metadata": {},
     "output_type": "display_data"
    }
   ],
   "source": [
    "plt.subplots(1, 3, sharey=True, figsize=(20,20))\n",
    "\n",
    "plt.subplot(331)\n",
    "plt.scatter(reg_UK[:,1], reg_UK[:,2])\n",
    "plt.grid()\n",
    "plt.title(\"dow, delay scatter UK\")\n",
    "\n",
    "plt.subplot(332)\n",
    "plt.scatter(reg_FR[:,1], reg_FR[:,2])\n",
    "plt.grid()\n",
    "plt.title(\"dow, delay scatter FR\")\n",
    "\n",
    "plt.subplot(333)\n",
    "plt.scatter(reg[:,1], reg[:,2])\n",
    "plt.grid()\n",
    "plt.title(\"dow, delay scatter ALL\")\n",
    "\n",
    "km = KMeans(n_clusters=21).fit(reg)\n",
    "labels = km.labels_\n"
   ]
  },
  {
   "cell_type": "markdown",
   "metadata": {},
   "source": [
    "#### THE HIPOTESIS IS TRUE, THE DAY OF WEEK HAS SOMETHING TO DO WITH DELAYS, FOR EXAMPLE, FRANCE HAS A LOT OF DELAYS ON SUNDAY"
   ]
  },
  {
   "cell_type": "markdown",
   "metadata": {},
   "source": [
    "### LETS DO THE SAME WITH THE NUMBER OF DEPARTURES - MAYBE HAS SOMETHING TO DO"
   ]
  },
  {
   "cell_type": "code",
   "execution_count": 342,
   "metadata": {},
   "outputs": [],
   "source": [
    "reg_d = np.array([df['idterminal'], df['departures'], df['waitingtimeminutes']]).transpose()\n",
    "reg_UK_d = np.array([df_UK['idterminal'], df_UK['departures'], df_UK['waitingtimeminutes']]).transpose()\n",
    "reg_FR_d = np.array([df_FR['idterminal'], df_FR['departures'], df_FR['waitingtimeminutes']]).transpose()"
   ]
  },
  {
   "cell_type": "code",
   "execution_count": 345,
   "metadata": {},
   "outputs": [
    {
     "data": {
      "image/png": "[encoded data removed]",
      "text/plain": [
       "<matplotlib.figure.Figure at 0x1134756a0>"
      ]
     },
     "metadata": {},
     "output_type": "display_data"
    }
   ],
   "source": [
    "plt.subplots(1, 3, sharey=True, figsize=(20,20))\n",
    "\n",
    "plt.subplot(331)\n",
    "plt.scatter(reg_UK_d[:,1], reg_UK[:,2])\n",
    "plt.grid()\n",
    "plt.title(\"dow, delay scatter UK\")\n",
    "\n",
    "plt.subplot(332)\n",
    "plt.scatter(reg_FR_d[:,1], reg_FR[:,2])\n",
    "plt.grid()\n",
    "plt.title(\"dow, delay scatter FR\")\n",
    "\n",
    "plt.subplot(333)\n",
    "plt.scatter(reg_d[:,1], reg[:,2])\n",
    "plt.grid()\n",
    "plt.title(\"dow, delay scatter ALL\")\n",
    "\n",
    "km = KMeans(n_clusters=21).fit(reg)\n",
    "labels = km.labels_\n",
    "\n"
   ]
  },
  {
   "cell_type": "code",
   "execution_count": 286,
   "metadata": {},
   "outputs": [],
   "source": [
    "db = DBSCAN(eps=0.3, min_samples=10).fit(reg)"
   ]
  },
  {
   "cell_type": "code",
   "execution_count": 292,
   "metadata": {},
   "outputs": [],
   "source": [
    "labels = db.labels_\n",
    "n_clusters_ = np.max(db.labels_) + 1"
   ]
  },
  {
   "cell_type": "code",
   "execution_count": 293,
   "metadata": {},
   "outputs": [
    {
     "data": {
      "text/plain": [
       "36"
      ]
     },
     "execution_count": 293,
     "metadata": {},
     "output_type": "execute_result"
    }
   ],
   "source": [
    "n_clusters_"
   ]
  },
  {
   "cell_type": "code",
   "execution_count": 316,
   "metadata": {},
   "outputs": [
    {
     "data": {
      "text/plain": [
       "array([2, 3, 0])"
      ]
     },
     "execution_count": 316,
     "metadata": {},
     "output_type": "execute_result"
    }
   ],
   "source": [
    "reg[1,:]"
   ]
  },
  {
   "cell_type": "code",
   "execution_count": 310,
   "metadata": {},
   "outputs": [
    {
     "data": {
      "text/plain": [
       "KMeans(algorithm='auto', copy_x=True, init='k-means++', max_iter=300,\n",
       "    n_clusters=21, n_init=10, n_jobs=1, precompute_distances='auto',\n",
       "    random_state=None, tol=0.0001, verbose=0)"
      ]
     },
     "execution_count": 310,
     "metadata": {},
     "output_type": "execute_result"
    }
   ],
   "source": [
    "km"
   ]
  },
  {
   "cell_type": "code",
   "execution_count": null,
   "metadata": {},
   "outputs": [],
   "source": []
  }
 ],
 "metadata": {
  "kernelspec": {
   "display_name": "Python 3",
   "language": "python",
   "name": "python3"
  },
  "language_info": {
   "codemirror_mode": {
    "name": "ipython",
    "version": 3
   },
   "file_extension": ".py",
   "mimetype": "text/x-python",
   "name": "python",
   "nbconvert_exporter": "python",
   "pygments_lexer": "ipython3",
   "version": "3.6.4"
  }
 },
 "nbformat": 4,
 "nbformat_minor": 2
}

{
 "cells": [
  {
   "cell_type": "code",
   "execution_count": 1,
   "metadata": {},
   "outputs": [],
   "source": [
    "import pandas as pd, numpy as np, matplotlib.pyplot as plt, time\n",
    "import pylab\n",
    "\n",
    "%matplotlib inline"
   ]
  },
  {
   "cell_type": "code",
   "execution_count": 2,
   "metadata": {},
   "outputs": [],
   "source": [
    "df = pd.read_csv('eurotunnel_3_months.csv')"
   ]
  },
  {
   "cell_type": "code",
   "execution_count": 3,
   "metadata": {},
   "outputs": [
    {
     "data": {
      "text/html": [
       "<div>\n",
       "<style scoped>\n",
       "    .dataframe tbody tr th:only-of-type {\n",
       "        vertical-align: middle;\n",
       "    }\n",
       "\n",
       "    .dataframe tbody tr th {\n",
       "        vertical-align: top;\n",
       "    }\n",
       "\n",
       "    .dataframe thead th {\n",
       "        text-align: right;\n",
       "    }\n",
       "</style>\n",
       "<table border=\"1\" class=\"dataframe\">\n",
       "  <thead>\n",
       "    <tr style=\"text-align: right;\">\n",
       "      <th></th>\n",
       "      <th>terminal</th>\n",
       "      <th>servicetype</th>\n",
       "      <th>departures</th>\n",
       "      <th>waitingtimeminutes</th>\n",
       "      <th>journeytimeminutes</th>\n",
       "      <th>delayreason</th>\n",
       "      <th>retrievaldate</th>\n",
       "      <th>latitude</th>\n",
       "      <th>longitude</th>\n",
       "      <th>trend</th>\n",
       "    </tr>\n",
       "  </thead>\n",
       "  <tbody>\n",
       "    <tr>\n",
       "      <th>0</th>\n",
       "      <td>UK</td>\n",
       "      <td>normal</td>\n",
       "      <td>6</td>\n",
       "      <td>0</td>\n",
       "      <td>60</td>\n",
       "      <td>none/unknown</td>\n",
       "      <td>2018-02-01 00:13:06.432</td>\n",
       "      <td>51.0963</td>\n",
       "      <td>1.13505</td>\n",
       "      <td>stable</td>\n",
       "    </tr>\n",
       "    <tr>\n",
       "      <th>1</th>\n",
       "      <td>F</td>\n",
       "      <td>normal</td>\n",
       "      <td>4</td>\n",
       "      <td>0</td>\n",
       "      <td>60</td>\n",
       "      <td>none/unknown</td>\n",
       "      <td>2018-02-01 00:13:06.57</td>\n",
       "      <td>50.9239</td>\n",
       "      <td>1.81604</td>\n",
       "      <td>stable</td>\n",
       "    </tr>\n",
       "    <tr>\n",
       "      <th>2</th>\n",
       "      <td>UK</td>\n",
       "      <td>normal</td>\n",
       "      <td>6</td>\n",
       "      <td>0</td>\n",
       "      <td>60</td>\n",
       "      <td>none/unknown</td>\n",
       "      <td>2018-02-01 00:42:53.941</td>\n",
       "      <td>51.0963</td>\n",
       "      <td>1.13505</td>\n",
       "      <td>stable</td>\n",
       "    </tr>\n",
       "    <tr>\n",
       "      <th>3</th>\n",
       "      <td>F</td>\n",
       "      <td>normal</td>\n",
       "      <td>5</td>\n",
       "      <td>0</td>\n",
       "      <td>60</td>\n",
       "      <td>none/unknown</td>\n",
       "      <td>2018-02-01 00:42:54.08</td>\n",
       "      <td>50.9239</td>\n",
       "      <td>1.81604</td>\n",
       "      <td>stable</td>\n",
       "    </tr>\n",
       "    <tr>\n",
       "      <th>4</th>\n",
       "      <td>UK</td>\n",
       "      <td>normal</td>\n",
       "      <td>4</td>\n",
       "      <td>0</td>\n",
       "      <td>60</td>\n",
       "      <td>none/unknown</td>\n",
       "      <td>2018-02-01 01:12:54.094</td>\n",
       "      <td>51.0963</td>\n",
       "      <td>1.13505</td>\n",
       "      <td>stable</td>\n",
       "    </tr>\n",
       "  </tbody>\n",
       "</table>\n",
       "</div>"
      ],
      "text/plain": [
       "  terminal servicetype  departures  waitingtimeminutes  journeytimeminutes  \\\n",
       "0       UK      normal           6                   0                  60   \n",
       "1        F      normal           4                   0                  60   \n",
       "2       UK      normal           6                   0                  60   \n",
       "3        F      normal           5                   0                  60   \n",
       "4       UK      normal           4                   0                  60   \n",
       "\n",
       "    delayreason            retrievaldate  latitude  longitude   trend  \n",
       "0  none/unknown  2018-02-01 00:13:06.432   51.0963    1.13505  stable  \n",
       "1  none/unknown   2018-02-01 00:13:06.57   50.9239    1.81604  stable  \n",
       "2  none/unknown  2018-02-01 00:42:53.941   51.0963    1.13505  stable  \n",
       "3  none/unknown   2018-02-01 00:42:54.08   50.9239    1.81604  stable  \n",
       "4  none/unknown  2018-02-01 01:12:54.094   51.0963    1.13505  stable  "
      ]
     },
     "execution_count": 3,
     "metadata": {},
     "output_type": "execute_result"
    }
   ],
   "source": [
    "df.head()"
   ]
  },
  {
   "cell_type": "code",
   "execution_count": 4,
   "metadata": {},
   "outputs": [],
   "source": [
    "ts_uk = df[df.terminal == 'UK']\n",
    "ts_fr = df[df.terminal == 'F']"
   ]
  },
  {
   "cell_type": "code",
   "execution_count": null,
   "metadata": {},
   "outputs": [],
   "source": []
  },
  {
   "cell_type": "code",
   "execution_count": 5,
   "metadata": {},
   "outputs": [],
   "source": [
    "def make_poly(x, y, grade=3):\n",
    "    z = np.polyfit(x, y, grade)\n",
    "    poli = np.poly1d(z)\n",
    "    return poli"
   ]
  },
  {
   "cell_type": "code",
   "execution_count": 6,
   "metadata": {},
   "outputs": [],
   "source": [
    "x = np.array(range(0,len(ts_uk)))\n",
    "y = ts_uk['waitingtimeminutes']"
   ]
  },
  {
   "cell_type": "code",
   "execution_count": 8,
   "metadata": {},
   "outputs": [
    {
     "data": {
      "image/png": "[encoded data removed]",
      "text/plain": [
       "<matplotlib.figure.Figure at 0x7f8a37132ba8>"
      ]
     },
     "metadata": {},
     "output_type": "display_data"
    }
   ],
   "source": [
    "fig, (uk_x, fr_x) = plt.subplots(1, 2, sharey=True, figsize=[25, 8])\n",
    "uk_x.plot(ts_uk['waitingtimeminutes'])\n",
    "fr_x.plot(ts_fr['waitingtimeminutes'])\n",
    "\n",
    "uk_x.set_title('UK')\n",
    "fr_x.set_title('FR')\n",
    "plt.show()"
   ]
  },
  {
   "cell_type": "code",
   "execution_count": null,
   "metadata": {},
   "outputs": [],
   "source": []
  },
  {
   "cell_type": "markdown",
   "metadata": {},
   "source": [
    "#### JUST FOR FUN DO SOME PREDICTIONS ON TIME SERIES"
   ]
  },
  {
   "cell_type": "code",
   "execution_count": null,
   "metadata": {},
   "outputs": [],
   "source": [
    "from keras.models import Sequential\n",
    "from keras.layers import Dense\n",
    "from keras.layers import LSTM\n",
    "from keras.layers.convolutional import Conv1D\n",
    "from keras.layers.convolutional import MaxPooling1D\n",
    "from keras.layers.embeddings import Embedding\n",
    "from keras.preprocessing import sequence"
   ]
  },
  {
   "cell_type": "code",
   "execution_count": null,
   "metadata": {},
   "outputs": [],
   "source": [
    "samples = ts_fr['waitingtimeminutes']\n",
    "num_samples = len(samples)\n",
    "timesteps   = 7 # one week\n",
    "features    = 1\n",
    "\n",
    "model = Sequential()\n",
    "model.add(LSTM((timesteps, features), output_dim=timesteps, return_sequences=True))\n",
    "model.add(LSTM(256, dropout=0.1, recurrent_dropout=0.1))\n",
    "model.add(Dense(1, activation='linear'))\n",
    "model.compile(loss='mse', optimizer='adam', metrics=['accuracy'])\n",
    "print(model.summary())\n",
    "history = model.fit(X_train, y_train, epochs=3, batch_size=64)"
   ]
  },
  {
   "cell_type": "code",
   "execution_count": null,
   "metadata": {},
   "outputs": [],
   "source": [
    "ts_uk['waitingtimeminutes']"
   ]
  },
  {
   "cell_type": "code",
   "execution_count": null,
   "metadata": {},
   "outputs": [],
   "source": [
    "ts_uk"
   ]
  },
  {
   "cell_type": "code",
   "execution_count": null,
   "metadata": {},
   "outputs": [],
   "source": [
    "x = np.array([0.0, 1.0, 2.0, 3.0,  4.0,  5.0])\n",
    "y = np.array([0.0, 0.8, 0.9, 0.1, -0.8, -1.0])\n",
    "z = np.polyfit(x, y, 3)\n",
    "z\n"
   ]
  },
  {
   "cell_type": "code",
   "execution_count": null,
   "metadata": {},
   "outputs": [],
   "source": [
    "np.array(range(1,3))"
   ]
  },
  {
   "cell_type": "code",
   "execution_count": null,
   "metadata": {},
   "outputs": [],
   "source": []
  }
 ],
 "metadata": {
  "kernelspec": {
   "display_name": "Python 3",
   "language": "python",
   "name": "python3"
  },
  "language_info": {
   "codemirror_mode": {
    "name": "ipython",
    "version": 3
   },
   "file_extension": ".py",
   "mimetype": "text/x-python",
   "name": "python",
   "nbconvert_exporter": "python",
   "pygments_lexer": "ipython3",
   "version": "3.6.4"
  }
 },
 "nbformat": 4,
 "nbformat_minor": 2
}
